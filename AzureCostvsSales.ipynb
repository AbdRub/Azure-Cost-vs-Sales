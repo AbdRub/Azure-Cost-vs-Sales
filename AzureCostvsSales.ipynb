{
 "cells": [
  {
   "cell_type": "code",
   "execution_count": null,
   "id": "503811f1",
   "metadata": {},
   "outputs": [],
   "source": [
    "import requests as rs\n",
    "from zipfile import ZipFile\n",
    "from io import BytesIO\n",
    "import pandas as pd\n",
    "from azure.storage.blob import ContainerClient,BlobServiceClient\n",
    "from io import StringIO\n",
    "import numpy as np\n",
    "import json\n",
    "import datetime as dt\n",
    "import warnings\n"
   ]
  },
  {
   "cell_type": "code",
   "execution_count": null,
   "id": "27d77255",
   "metadata": {},
   "outputs": [],
   "source": [
    "\n",
    "warnings.filterwarnings('ignore')\n",
    "\n",
    "pd.set_option('display.max_columns', None)\n",
    "\n",
    "pd.set_option('display.max_rows', None)\n"
   ]
  },
  {
   "cell_type": "code",
   "execution_count": null,
   "id": "dd502e3f",
   "metadata": {},
   "outputs": [],
   "source": [
    "\n",
    "def getAccessToken(request_body):\n",
    "    req = rs.post(\n",
    "                  \"https://login.windows.net/6e75cca6-47f0-47a3-a928-9d5315750bd9/oauth2/token\"\n",
    "                  ,data = request_body)\n",
    "    access_token = json.loads(req.text)['access_token']\n",
    "    return access_token\n",
    "\n",
    "def getInvoices (base_url):\n",
    "    relative_url = '/v1/invoices'\n",
    "\n",
    "    response = json.loads(\n",
    "    rs.get(\n",
    "            f\"{base_url}{relative_url}\",\n",
    "           headers=headers)\n",
    "    .content)\n",
    "\n",
    "    main_df=pd.DataFrame() # Main DataFrame, currently empty\n",
    "\n",
    "    columns = list(response['items'][0].keys())\n",
    "\n",
    "    for row in response['items']:\n",
    "        row_df = pd.DataFrame.from_dict([row]) #Each row gets converted to a DataFrame\n",
    "        main_df = pd.concat([main_df,row_df],ignore_index=True) #Then gets appended to the Main DataFrame\n",
    "        \n",
    "    return main_df\n",
    "\n",
    "def getInvoiceLineItems(base_url, invoiceId):\n",
    "    relative_url = f'/v1/invoices/{invoiceId}/lineitems/OneTime/BillingLineItems?size=5000'\n",
    "\n",
    "    response = json.loads(\n",
    "        rs.get(\n",
    "                f\"{base_url}{relative_url}\",\n",
    "               headers=headers)\n",
    "        .content)\n",
    "\n",
    "    main_df=pd.DataFrame()\n",
    "\n",
    "    columns = list(response['items'][0].keys())\n",
    "\n",
    "    for row in response['items']:\n",
    "        sub_df = pd.DataFrame.from_dict([row])\n",
    "        main_df = pd.concat([main_df,sub_df],ignore_index=True)\n",
    "    return main_df\n"
   ]
  },
  {
   "cell_type": "code",
   "execution_count": null,
   "id": "b2a353bb",
   "metadata": {},
   "outputs": [],
   "source": [
    "\n",
    "secrets = json.load(open(file='./secrets.json'))\n",
    "\n",
    "refresh_token = secrets['refresh_token']\n",
    "\n",
    "app_id = secrets['app_id']\n",
    "\n",
    "app_secret = secrets['app_secret']\n",
    "\n",
    "request_body = {\n",
    "        \"grant_type\": \"refresh_token\",\n",
    "        \"refresh_token\": refresh_token,\n",
    "        \"scope\": \"openid\",\n",
    "        \"resource\": \"https://api.partnercenter.microsoft.com\",\n",
    "        \"client_id\": app_id,\n",
    "        \"client_secret\": app_secret,\n",
    "    }\n",
    "\n",
    "base_url = (\n",
    "'https://api.partnercenter.microsoft.com'\n",
    ")\n",
    "\n",
    "isAccessTokenValid = 0\n"
   ]
  },
  {
   "cell_type": "code",
   "execution_count": null,
   "id": "13cd9798",
   "metadata": {},
   "outputs": [],
   "source": [
    "\n",
    "try:\n",
    "    access_token = getAccessToken(request_body = request_body)\n",
    "    print('Refresh token valid, Access token obtained.')\n",
    "    isAccessTokenValid = 1\n",
    "except:\n",
    "    print('Refresh token expired.')\n",
    "\n",
    "\n"
   ]
  },
  {
   "cell_type": "code",
   "execution_count": null,
   "id": "bd2da6ac",
   "metadata": {},
   "outputs": [],
   "source": [
    "\n",
    "\n",
    "\n",
    "\n",
    "if isAccessTokenValid == 1:\n",
    "    headers = {'Authorization': 'Bearer ' + access_token}\n",
    "\n",
    "    print('getting invoices...')\n",
    "    invoices_df = getInvoices(base_url = base_url)\n",
    "\n",
    "    print('Filtering invoices to One-Time...')\n",
    "    invoices_df = invoices_df[invoices_df['invoiceType']=='OneTime']\n",
    "\n",
    "    invoiceIdList = list(invoices_df['id'])\n",
    "    invoiceDateList = list(invoices_df['invoiceDate'])\n",
    "\n",
    "    zipp = zip(invoiceIdList,invoiceDateList)\n"
   ]
  },
  {
   "cell_type": "code",
   "execution_count": null,
   "id": "b7b88071",
   "metadata": {},
   "outputs": [],
   "source": [
    "invoice_df = getInvoiceLineItems(base_url = base_url, invoiceId = 'G020077203')\n",
    "\n",
    "    print(invoice_df[\n",
    "        (invoice_df['customerName'].str.startswith('TATA'))\n",
    "            ][\n",
    "        ['productName','skuName','termAndBillingCycle','totalForCustomer','chargeStartDate','chargeEndDate']\n",
    "            ].sort_values('productName'))\n",
    "\n",
    "\n",
    "\n",
    "\n"
   ]
  }
 ],
 "metadata": {
  "kernelspec": {
   "display_name": "Python 3 (ipykernel)",
   "language": "python",
   "name": "python3"
  },
  "language_info": {
   "codemirror_mode": {
    "name": "ipython",
    "version": 3
   },
   "file_extension": ".py",
   "mimetype": "text/x-python",
   "name": "python",
   "nbconvert_exporter": "python",
   "pygments_lexer": "ipython3",
   "version": "3.10.9"
  }
 },
 "nbformat": 4,
 "nbformat_minor": 5
}
