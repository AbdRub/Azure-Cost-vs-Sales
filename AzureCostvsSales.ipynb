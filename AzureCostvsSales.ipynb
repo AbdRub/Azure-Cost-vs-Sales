{
 "cells": [
  {
   "attachments": {},
   "cell_type": "markdown",
   "id": "778562da",
   "metadata": {},
   "source": [
    "# Getting Access Token and Setting Up HTTPS Request Headers"
   ]
  },
  {
   "cell_type": "code",
   "execution_count": 1,
   "id": "4b2203f5",
   "metadata": {},
   "outputs": [],
   "source": [
    "import requests as rs\n",
    "from zipfile import ZipFile\n",
    "from io import BytesIO\n",
    "import pandas as pd\n",
    "from azure.storage.blob import ContainerClient,BlobServiceClient\n",
    "from io import StringIO\n",
    "import numpy as np\n",
    "import calendar\n",
    "import json\n",
    "import datetime as dt\n",
    "import warnings\n",
    "import time\n"
   ]
  },
  {
   "cell_type": "code",
   "execution_count": null,
   "id": "b1375e4d",
   "metadata": {},
   "outputs": [],
   "source": [
    "\n",
    "warnings.filterwarnings('ignore')\n",
    "\n",
    "pd.set_option('display.max_columns', None)\n",
    "\n",
    "pd.set_option('display.max_rows', None)\n",
    "\n",
    "secrets = json.load(open(file='./secrets.json'))\n",
    "\n",
    "refresh_token = secrets['refresh_token']\n",
    "\n",
    "app_id = secrets['app_id']\n",
    "\n",
    "app_secret = secrets['app_secret']\n",
    "\n",
    "request_body = {\n",
    "        \"grant_type\": \"refresh_token\",\n",
    "        \"refresh_token\": refresh_token,\n",
    "        \"scope\": \"openid\",\n",
    "        \"resource\": \"https://api.partnercenter.microsoft.com\",\n",
    "        \"client_id\": app_id,\n",
    "        \"client_secret\": app_secret,\n",
    "    }\n",
    "\n",
    "base_url = (\n",
    "'https://api.partnercenter.microsoft.com'\n",
    ")"
   ]
  },
  {
   "cell_type": "code",
   "execution_count": 2,
   "id": "10d166d1",
   "metadata": {},
   "outputs": [],
   "source": [
    "def getAccessToken(request_body):\n",
    "    req = rs.post(\n",
    "                  \"https://login.windows.net/6e75cca6-47f0-47a3-a928-9d5315750bd9/oauth2/token\"\n",
    "                  ,data = request_body)\n",
    "    access_token = json.loads(req.text)['access_token']\n",
    "    return access_token\n",
    "\n"
   ]
  },
  {
   "cell_type": "code",
   "execution_count": 3,
   "id": "ea792649",
   "metadata": {},
   "outputs": [],
   "source": [
    "access_token = getAccessToken(request_body = request_body)\n",
    "\n",
    "headers = {'Authorization': 'Bearer ' + access_token}"
   ]
  },
  {
   "attachments": {},
   "cell_type": "markdown",
   "id": "2c6a9d91",
   "metadata": {},
   "source": [
    "# Get Invoices"
   ]
  },
  {
   "cell_type": "code",
   "execution_count": 4,
   "id": "eee7ef8c",
   "metadata": {},
   "outputs": [],
   "source": [
    "def getInvoices (base_url):\n",
    "    relative_url = '/v1/invoices'\n",
    "\n",
    "    response = json.loads(\n",
    "    rs.get(\n",
    "            f\"{base_url}{relative_url}\",\n",
    "           headers=headers)\n",
    "    .content)\n",
    "\n",
    "    main_df=pd.DataFrame() # Main DataFrame, currently empty\n",
    "\n",
    "    columns = list(response['items'][0].keys())\n",
    "\n",
    "    for row in response['items']:\n",
    "        row_df = pd.DataFrame.from_dict([row]) #Each row gets converted to a DataFrame\n",
    "        main_df = pd.concat([main_df,row_df],ignore_index=True) #Then gets appended to the Main DataFrame\n",
    "        \n",
    "    return main_df"
   ]
  },
  {
   "cell_type": "code",
   "execution_count": null,
   "id": "e77cc410",
   "metadata": {},
   "outputs": [],
   "source": [
    "invoices_df = getInvoices(base_url = base_url)\n",
    "invoices_df = invoices_df[invoices_df['invoiceType']=='OneTime']\n"
   ]
  },
  {
   "cell_type": "code",
   "execution_count": null,
   "id": "83e13d5b",
   "metadata": {},
   "outputs": [],
   "source": [
    "invoices_df"
   ]
  },
  {
   "cell_type": "code",
   "execution_count": 35,
   "id": "63b52ef0",
   "metadata": {},
   "outputs": [],
   "source": [
    "invoiceIdList = list(invoices_df['id'])\n",
    "invoiceDateList = list(invoices_df['invoiceDate'])\n",
    "\n",
    "zipp = zip(invoiceIdList,invoiceDateList)\n",
    "# latestInvoice,latestInvoiceDate = list(zipp)[-1]   \n"
   ]
  },
  {
   "cell_type": "code",
   "execution_count": 36,
   "id": "c7595934",
   "metadata": {},
   "outputs": [
    {
     "data": {
      "text/plain": [
       "('G021249609', '2023-04-06T03:00:28.1147298Z')"
      ]
     },
     "execution_count": 36,
     "metadata": {},
     "output_type": "execute_result"
    }
   ],
   "source": [
    "list(zipp)[-1]"
   ]
  },
  {
   "attachments": {},
   "cell_type": "markdown",
   "id": "ed7c8c24",
   "metadata": {},
   "source": [
    "# Get Invoice Line Items\n"
   ]
  },
  {
   "cell_type": "code",
   "execution_count": 11,
   "id": "00c222f7",
   "metadata": {},
   "outputs": [],
   "source": [
    "def getInvoiceLineItems(base_url, invoiceId):\n",
    "    relative_url = f'/v1/invoices/{invoiceId}/lineitems/OneTime/BillingLineItems?size=5000'\n",
    "\n",
    "    response = json.loads(\n",
    "        rs.get(\n",
    "                f\"{base_url}{relative_url}\",\n",
    "               headers=headers)\n",
    "        .content)\n",
    "\n",
    "    main_df=pd.DataFrame()\n",
    "\n",
    "    columns = list(response['items'][0].keys())\n",
    "\n",
    "    for row in response['items']:\n",
    "        sub_df = pd.DataFrame.from_dict([row])\n",
    "        main_df = main_df.append(sub_df,ignore_index=True)\n",
    "    return main_df\n",
    "    "
   ]
  },
  {
   "cell_type": "code",
   "execution_count": null,
   "id": "fef3fa72",
   "metadata": {
    "scrolled": true
   },
   "outputs": [],
   "source": [
    "invoice_df = getInvoiceLineItems(base_url = base_url, invoiceId = 'G020077203')\n",
    "invoice_df.head()"
   ]
  },
  {
   "cell_type": "code",
   "execution_count": null,
   "id": "1ee5df33",
   "metadata": {},
   "outputs": [],
   "source": [
    "invoice_df[\n",
    "    (invoice_df['customerName'].str.startswith('TATA'))\n",
    "          ][\n",
    "    ['productName','skuName','termAndBillingCycle','totalForCustomer','chargeStartDate','chargeEndDate']\n",
    "        ].sort_values('productName')\n",
    "    "
   ]
  }
 ],
 "metadata": {
  "kernelspec": {
   "display_name": "Python 3 (ipykernel)",
   "language": "python",
   "name": "python3"
  },
  "language_info": {
   "codemirror_mode": {
    "name": "ipython",
    "version": 3
   },
   "file_extension": ".py",
   "mimetype": "text/x-python",
   "name": "python",
   "nbconvert_exporter": "python",
   "pygments_lexer": "ipython3",
   "version": "3.10.9"
  }
 },
 "nbformat": 4,
 "nbformat_minor": 5
}
