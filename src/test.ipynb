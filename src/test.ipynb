{
 "cells": [
  {
   "cell_type": "code",
   "execution_count": 16,
   "metadata": {},
   "outputs": [
    {
     "name": "stdout",
     "output_type": "stream",
     "text": [
      "<class '__main__.Car'>\n",
      "This car is a BMW X1 of year 2022\n"
     ]
    }
   ],
   "source": [
    "class Car:\n",
    "    def __init__(self, make, model):\n",
    "        self.make = make    # Instance attribute\n",
    "        self.model = model  # Instance attribute\n",
    "\n",
    "    def describe(self, year):\n",
    "        # Accessing instance attributes using 'self'\n",
    "        return f\"This car is a {self.make} {self.model} of year {year}\"\n",
    "\n",
    "# Creating an instance of Car\n",
    "# my_car = Car(\"Toyota\", \"Corolla\")\n",
    "my_car = Car(\"BMW\",\"X1\")\n",
    "print(type(my_car))\n",
    "\n",
    "# Calling the instance method\n",
    "print(my_car.describe(2022))  # Output: This car is a Toyota Corolla\n"
   ]
  }
 ],
 "metadata": {
  "kernelspec": {
   "display_name": ".venv",
   "language": "python",
   "name": "python3"
  },
  "language_info": {
   "codemirror_mode": {
    "name": "ipython",
    "version": 3
   },
   "file_extension": ".py",
   "mimetype": "text/x-python",
   "name": "python",
   "nbconvert_exporter": "python",
   "pygments_lexer": "ipython3",
   "version": "3.11.9"
  }
 },
 "nbformat": 4,
 "nbformat_minor": 2
}
