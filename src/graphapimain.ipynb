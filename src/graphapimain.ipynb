{
 "cells": [
  {
   "cell_type": "code",
   "execution_count": 4,
   "metadata": {},
   "outputs": [
    {
     "name": "stdout",
     "output_type": "stream",
     "text": [
      "Failed to make the request. Status code: 401\n",
      "Response content: b'{\"error\":{\"code\":\"InvalidAuthenticationToken\",\"message\":\"Lifetime validation failed, the token is expired.\",\"innerError\":{\"date\":\"2024-09-13T10:12:15\",\"request-id\":\"2af197f5-e210-43e7-9c4e-f3bfaa759082\",\"client-request-id\":\"2af197f5-e210-43e7-9c4e-f3bfaa759082\"}}}'\n",
      "Access token is expired or invalid. Please refresh the token and try again.\n"
     ]
    }
   ],
   "source": [
    "import time\n",
    "import requests\n",
    "\n",
    "base_url = \"https://login.microsoftonline.com/6e75cca6-47f0-47a3-a928-9d5315750bd9/oauth2/v2.0/token\"\n",
    "\n",
    "request_body = {\n",
    "    'client_id': '006568e8-96fd-4d41-89cb-b90ad6d3ae7f',\n",
    "    'scope': 'https://graph.microsoft.com/.default',\n",
    "    'client_secret': 'twDn=pGBDRjC9474K?A=zM/?WxLGi1oY',\n",
    "    'grant_type': 'client_credentials'\n",
    "}\n",
    "\n",
    "response = rs.post(base_url, data=request_body)\n",
    "\n",
    "response.json()\n",
    "\n",
    "\n",
    "# Replace these values with your actual access token and other parameters\n",
    "access_token = 'eyJ0eXAiOiJKV1QiLCJub25jZSI6IjZzd1VHS2ZPS193YnlCUlB3YnJkUGhibU1KNUpQWVpRWlM1d0ZVN28wNG8iLCJhbGciOiJSUzI1NiIsIng1dCI6Ikg5bmo1QU9Tc3dNcGhnMVNGeDdqYVYtbEI5dyIsImtpZCI6Ikg5bmo1QU9Tc3dNcGhnMVNGeDdqYVYtbEI5dyJ9.eyJhdWQiOiJodHRwczovL2dyYXBoLm1pY3Jvc29mdC5jb20iLCJpc3MiOiJodHRwczovL3N0cy53aW5kb3dzLm5ldC82ZTc1Y2NhNi00N2YwLTQ3YTMtYTkyOC05ZDUzMTU3NTBiZDkvIiwiaWF0IjoxNzI2MjA3NzgyLCJuYmYiOjE3MjYyMDc3ODIsImV4cCI6MTcyNjIxMTY4MiwiYWlvIjoiRTJkZ1lOakkvM0xsaVUwck0wSmVob3Y0L0h2RUN3QT0iLCJhcHBfZGlzcGxheW5hbWUiOiJQYXJ0bmVyIENlbnRlciBXZWIgQXBwIiwiYXBwaWQiOiIwMDY1NjhlOC05NmZkLTRkNDEtODljYi1iOTBhZDZkM2FlN2YiLCJhcHBpZGFjciI6IjEiLCJpZHAiOiJodHRwczovL3N0cy53aW5kb3dzLm5ldC82ZTc1Y2NhNi00N2YwLTQ3YTMtYTkyOC05ZDUzMTU3NTBiZDkvIiwiaWR0eXAiOiJhcHAiLCJvaWQiOiJjZjY5MGM5MC1kZDkyLTQ4NDktOWU4NC1iMDM1ZjMxYWY2NGMiLCJyaCI6IjAuQVQwQXBzeDFidkJIbzBlcEtKMVRGWFVMMlFNQUFBQUFBQUFBd0FBQUFBQUFBQUE5QUFBLiIsInJvbGVzIjpbIlBhcnRuZXJCaWxsaW5nLlJlYWQuQWxsIl0sInN1YiI6ImNmNjkwYzkwLWRkOTItNDg0OS05ZTg0LWIwMzVmMzFhZjY0YyIsInRlbmFudF9yZWdpb25fc2NvcGUiOiJBUyIsInRpZCI6IjZlNzVjY2E2LTQ3ZjAtNDdhMy1hOTI4LTlkNTMxNTc1MGJkOSIsInV0aSI6InUtY3h5bVd0YTBlMHQydTlFckZ3QUEiLCJ2ZXIiOiIxLjAiLCJ3aWRzIjpbIjg4ZDhlM2UzLThmNTUtNGExZS05NTNhLTliOTg5OGI4ODc2YiIsIjA5OTdhMWQwLTBkMWQtNGFjYi1iNDA4LWQ1Y2E3MzEyMWU5MCJdLCJ4bXNfaWRyZWwiOiI3IDYiLCJ4bXNfdGNkdCI6MTQ1ODQ5MTA4Mn0.Fm4lX5UHrR0W5geMjtSh_BIR-e0YfmTzpPb6viJvn9oV55el4BJG2JZ1tFKcksufmInQnEmwCyGxEZIXmwjRLd4sZ0bUf56Kj6hKg8f6Uj0QGfVPR8ffMKyaUKJ6Hcko7bwBbq_Ra6F4e8MdQqOQb6jqkSLQFdRc5kgBaYhSxWyxmo4__sCPcZC8YXhFys1tr3zFk9kzmnVF_uNGAUiayxBZOBfbrXP_PZas-gyPZvfW8K-XH9CmD1Lbi-dNfSH6bQrWkX1_CH-y0KlLbmgwK6iS4PGXDFRpVzSsGX9PbP3uhZ3na_yK4hMn_CmNVoNCha_eyyY-elInC2Nj91DVqg'\n",
    "\n",
    "api_url = 'https://graph.microsoft.com/v1.0/reports/partners/billing/usage/unbilled/export'\n",
    "\n",
    "# Define the request headers with the access token\n",
    "headers = {\n",
    "    'Authorization': f'Bearer {access_token}',\n",
    "    'Content-Type': 'application/json'\n",
    "}\n",
    "\n",
    "# Define the request body with the billing period and currency code\n",
    "body = {\n",
    "    'billingPeriod': 'current',\n",
    "    'currencyCode': 'INR'\n",
    "}\n",
    "\n",
    "# Make the POST request\n",
    "response = requests.post(api_url, headers=headers, json=body)\n",
    "\n",
    "# Check if the request was successful\n",
    "if response.status_code == 202:\n",
    "    print('Request accepted. Processing has started.')\n",
    "    # Check if there's any content in the response\n",
    "    for key, value in response.headers.items():\n",
    "        print(f'{key}: {value}')\n",
    "else:\n",
    "    print(f'Failed to make the request. Status code: {response.status_code}')\n",
    "    # Print raw response content for debugging\n",
    "    print(f'Response content: {response.content}')\n",
    "\n",
    "import requests as rs\n",
    "import json\n",
    "\n",
    "# Define the API URL and access token\n",
    "new_base_url = 'https://graph.microsoft.com/v1.0/reports/partners/billing/operations/af232e13-cdaa-4160-88a5-dfd520304246'\n",
    "new_access_token = 'eyJ0eXAiOiJKV1QiLCJub25jZSI6IjZzd1VHS2ZPS193YnlCUlB3YnJkUGhibU1KNUpQWVpRWlM1d0ZVN28wNG8iLCJhbGciOiJSUzI1NiIsIng1dCI6Ikg5bmo1QU9Tc3dNcGhnMVNGeDdqYVYtbEI5dyIsImtpZCI6Ikg5bmo1QU9Tc3dNcGhnMVNGeDdqYVYtbEI5dyJ9.eyJhdWQiOiJodHRwczovL2dyYXBoLm1pY3Jvc29mdC5jb20iLCJpc3MiOiJodHRwczovL3N0cy53aW5kb3dzLm5ldC82ZTc1Y2NhNi00N2YwLTQ3YTMtYTkyOC05ZDUzMTU3NTBiZDkvIiwiaWF0IjoxNzI2MjA3NzgyLCJuYmYiOjE3MjYyMDc3ODIsImV4cCI6MTcyNjIxMTY4MiwiYWlvIjoiRTJkZ1lOakkvM0xsaVUwck0wSmVob3Y0L0h2RUN3QT0iLCJhcHBfZGlzcGxheW5hbWUiOiJQYXJ0bmVyIENlbnRlciBXZWIgQXBwIiwiYXBwaWQiOiIwMDY1NjhlOC05NmZkLTRkNDEtODljYi1iOTBhZDZkM2FlN2YiLCJhcHBpZGFjciI6IjEiLCJpZHAiOiJodHRwczovL3N0cy53aW5kb3dzLm5ldC82ZTc1Y2NhNi00N2YwLTQ3YTMtYTkyOC05ZDUzMTU3NTBiZDkvIiwiaWR0eXAiOiJhcHAiLCJvaWQiOiJjZjY5MGM5MC1kZDkyLTQ4NDktOWU4NC1iMDM1ZjMxYWY2NGMiLCJyaCI6IjAuQVQwQXBzeDFidkJIbzBlcEtKMVRGWFVMMlFNQUFBQUFBQUFBd0FBQUFBQUFBQUE5QUFBLiIsInJvbGVzIjpbIlBhcnRuZXJCaWxsaW5nLlJlYWQuQWxsIl0sInN1YiI6ImNmNjkwYzkwLWRkOTItNDg0OS05ZTg0LWIwMzVmMzFhZjY0YyIsInRlbmFudF9yZWdpb25fc2NvcGUiOiJBUyIsInRpZCI6IjZlNzVjY2E2LTQ3ZjAtNDdhMy1hOTI4LTlkNTMxNTc1MGJkOSIsInV0aSI6InUtY3h5bVd0YTBlMHQydTlFckZ3QUEiLCJ2ZXIiOiIxLjAiLCJ3aWRzIjpbIjg4ZDhlM2UzLThmNTUtNGExZS05NTNhLTliOTg5OGI4ODc2YiIsIjA5OTdhMWQwLTBkMWQtNGFjYi1iNDA4LWQ1Y2E3MzEyMWU5MCJdLCJ4bXNfaWRyZWwiOiI3IDYiLCJ4bXNfdGNkdCI6MTQ1ODQ5MTA4Mn0.Fm4lX5UHrR0W5geMjtSh_BIR-e0YfmTzpPb6viJvn9oV55el4BJG2JZ1tFKcksufmInQnEmwCyGxEZIXmwjRLd4sZ0bUf56Kj6hKg8f6Uj0QGfVPR8ffMKyaUKJ6Hcko7bwBbq_Ra6F4e8MdQqOQb6jqkSLQFdRc5kgBaYhSxWyxmo4__sCPcZC8YXhFys1tr3zFk9kzmnVF_uNGAUiayxBZOBfbrXP_PZas-gyPZvfW8K-XH9CmD1Lbi-dNfSH6bQrWkX1_CH-y0KlLbmgwK6iS4PGXDFRpVzSsGX9PbP3uhZ3na_yK4hMn_CmNVoNCha_eyyY-elInC2Nj91DVqg'\n",
    "\n",
    "# Define the request headers with the access token\n",
    "headers = {\n",
    "    'Authorization': f'Bearer {new_access_token}'\n",
    "}\n",
    "\n",
    "# Function to get the status of the operation\n",
    "def check_status():\n",
    "    while True:\n",
    "        response = rs.get(new_base_url, headers=headers)\n",
    "\n",
    "        # Check if the token is expired or invalid\n",
    "        if response.status_code == 401 or response.status_code == 403:\n",
    "            raise Exception(\"Access token is expired or invalid. Please refresh the token and try again.\")\n",
    "\n",
    "        # Check if the response is successful\n",
    "        if response.status_code == 200:\n",
    "            json_data = response.json()\n",
    "            status = json_data.get('status')\n",
    "\n",
    "            # Print the response status for debugging\n",
    "            print(f'Status: {status}')\n",
    "\n",
    "            # If the status is either 'succeeded' or 'failed', break the loop\n",
    "            if status in ['succeeded', 'failed']:\n",
    "                return json_data  # Return the final result\n",
    "\n",
    "            # If status is 'processing', wait for the retry-after time or 10 seconds\n",
    "            retry_after = response.headers.get('Retry-After', 10)\n",
    "            print(f\"Retrying after {retry_after} seconds...\")\n",
    "\n",
    "            # Sleep for the specified time\n",
    "            time.sleep(int(retry_after))\n",
    "        else:\n",
    "            # Handle other errors (e.g., bad requests)\n",
    "            raise Exception(f\"Request failed with status code: {response.status_code}. Response: {response.content}\")\n",
    "\n",
    "# Call the function to check the status and fetch the result\n",
    "try:\n",
    "    result = check_status()\n",
    "    # Print the final result when done\n",
    "    formatted_json = json.dumps(result, indent=2)\n",
    "    print(formatted_json)\n",
    "except Exception as e:\n",
    "    print(e)\n"
   ]
  },
  {
   "cell_type": "code",
   "execution_count": 6,
   "metadata": {},
   "outputs": [
    {
     "name": "stdout",
     "output_type": "stream",
     "text": [
      "Error: Authentication failed: 401, b'{\"error\":\"invalid_client\",\"error_description\":\"AADSTS7000216: \\'client_assertion\\', \\'client_secret\\' or \\'request\\' is required for the \\'client_credentials\\' grant type. Trace ID: c3803d30-00c8-493d-a6a9-03683f084d00 Correlation ID: 2364f123-6466-49b1-b2a7-0d43e3da3c76 Timestamp: 2024-09-13 10:17:27Z\",\"error_codes\":[7000216],\"timestamp\":\"2024-09-13 10:17:27Z\",\"trace_id\":\"c3803d30-00c8-493d-a6a9-03683f084d00\",\"correlation_id\":\"2364f123-6466-49b1-b2a7-0d43e3da3c76\",\"error_uri\":\"https://login.microsoftonline.com/error?code=7000216\"}'\n"
     ]
    }
   ],
   "source": [
    "import requests\n",
    "import time\n",
    "import json\n",
    "from dotenv import load_dotenv\n",
    "import os\n",
    "\n",
    "# Load the environment variables from secrets.env\n",
    "load_dotenv('secrets.env')\n",
    "\n",
    "class GraphAPIClient:\n",
    "    def __init__(self, tenant_id, client_id, client_secret, scope, access_token=None):\n",
    "        self.tenant_id = tenant_id\n",
    "        self.client_id = client_id\n",
    "        self.client_secret = client_secret\n",
    "        self.scope = scope\n",
    "        self.access_token = access_token\n",
    "        self.base_token_url = f'https://login.microsoftonline.com/{self.tenant_id}/oauth2/v2.0/token'\n",
    "\n",
    "    def authenticate(self):\n",
    "        request_body = {\n",
    "            'client_id': self.client_id,\n",
    "            'scope': self.scope,\n",
    "            'client_secret': self.client_secret,\n",
    "            'grant_type': 'client_credentials'\n",
    "        }\n",
    "        response = requests.post(self.base_token_url, data=request_body)\n",
    "        if response.status_code == 200:\n",
    "            self.access_token = response.json()['access_token']\n",
    "        else:\n",
    "            raise Exception(f\"Authentication failed: {response.status_code}, {response.content}\")\n",
    "\n",
    "    def post_billing_request(self, api_url, billing_period, currency_code):\n",
    "        if not self.access_token:\n",
    "            raise Exception(\"Access token is missing. Authenticate first.\")\n",
    "        \n",
    "        headers = {\n",
    "            'Authorization': f'Bearer {self.access_token}',\n",
    "            'Content-Type': 'application/json'\n",
    "        }\n",
    "        body = {\n",
    "            'billingPeriod': billing_period,\n",
    "            'currencyCode': currency_code\n",
    "        }\n",
    "\n",
    "        response = requests.post(api_url, headers=headers, json=body)\n",
    "\n",
    "        if response.status_code == 202:\n",
    "            print('Request accepted. Processing has started.')\n",
    "            return response.headers  # Return headers to use the URL for checking status\n",
    "        else:\n",
    "            raise Exception(f\"Failed to make request. Status code: {response.status_code}. Content: {response.content}\")\n",
    "\n",
    "    def check_operation_status(self, operation_url):\n",
    "        if not self.access_token:\n",
    "            raise Exception(\"Access token is missing. Authenticate first.\")\n",
    "\n",
    "        headers = {\n",
    "            'Authorization': f'Bearer {self.access_token}'\n",
    "        }\n",
    "\n",
    "        while True:\n",
    "            response = requests.get(operation_url, headers=headers)\n",
    "            \n",
    "            if response.status_code in [401, 403]:\n",
    "                raise Exception(\"Access token is expired or invalid. Please refresh the token and try again.\")\n",
    "            elif response.status_code == 200:\n",
    "                json_data = response.json()\n",
    "                status = json_data.get('status')\n",
    "                print(f\"Status: {status}\")\n",
    "\n",
    "                if status in ['succeeded', 'failed']:\n",
    "                    return json_data  # Return final result\n",
    "\n",
    "                retry_after = response.headers.get('Retry-After', 10)\n",
    "                print(f\"Retrying after {retry_after} seconds...\")\n",
    "                time.sleep(int(retry_after))\n",
    "            else:\n",
    "                raise Exception(f\"Request failed. Status code: {response.status_code}. Response: {response.content}\")\n",
    "\n",
    "# Example usage\n",
    "if __name__ == \"__main__\":\n",
    "    # Load credentials from the .env file\n",
    "    tenant_id = os.getenv('TENANT_ID')\n",
    "    client_id = os.getenv('CLIENT_ID')\n",
    "    client_secret = os.getenv('CLIENT_SECRET')\n",
    "    scope = os.getenv('SCOPE')\n",
    "\n",
    "    # Initialize the client and authenticate\n",
    "    client = GraphAPIClient(tenant_id, client_id, client_secret, scope)\n",
    "    try:\n",
    "        client.authenticate()\n",
    "        print(\"Authenticated successfully.\")\n",
    "\n",
    "        # Make the billing request\n",
    "        billing_api_url = 'https://graph.microsoft.com/v1.0/reports/partners/billing/usage/unbilled/export'\n",
    "        billing_period = 'current'\n",
    "        currency_code = 'INR'\n",
    "        headers = client.post_billing_request(billing_api_url, billing_period, currency_code)\n",
    "        \n",
    "        # Fetch the operation URL from headers (assuming it's in 'Location')\n",
    "        operation_url = headers.get('Location')\n",
    "        if operation_url:\n",
    "            result = client.check_operation_status(operation_url)\n",
    "            print(json.dumps(result, indent=2))\n",
    "        else:\n",
    "            print(\"Operation URL not found in the response headers.\")\n",
    "    \n",
    "    except Exception as e:\n",
    "        print(f\"Error: {e}\")\n"
   ]
  },
  {
   "cell_type": "code",
   "execution_count": null,
   "metadata": {},
   "outputs": [],
   "source": []
  },
  {
   "cell_type": "code",
   "execution_count": 1,
   "metadata": {},
   "outputs": [
    {
     "name": "stderr",
     "output_type": "stream",
     "text": [
      "Python-dotenv could not parse statement starting at line 5\n"
     ]
    }
   ],
   "source": [
    "import requests\n",
    "import os\n",
    "import time\n",
    "import json\n",
    "from dotenv import load_dotenv\n",
    "\n",
    "# Load environment variables\n",
    "load_dotenv('../secrets.env')\n",
    "\n",
    "class PartnerCenterAPIClient:\n",
    "    def __init__(self, base_url: str, client_id: str, client_secret: str, tenant_id: str, scope: str):\n",
    "        self.base_url = base_url\n",
    "        self.client_id = client_id\n",
    "        self.client_secret = client_secret\n",
    "        self.tenant_id = tenant_id\n",
    "        self.scope = scope\n",
    "        self.token = None\n",
    "\n",
    "    def authenticate(self) -> str:\n",
    "        \"\"\"\n",
    "        Authenticate with Microsoft to get the refresh token.\n",
    "        \"\"\"\n",
    "        token_url = f\"https://login.microsoftonline.com/{self.tenant_id}/oauth2/v2.0/token\"\n",
    "        headers = {\n",
    "            'Content-Type': 'application/x-www-form-urlencoded'\n",
    "        }\n",
    "        body = {\n",
    "            'client_id': self.client_id,\n",
    "            'client_secret': self.client_secret,\n",
    "            'scope': self.scope,\n",
    "            'grant_type': 'client_credentials'\n",
    "        }\n",
    "\n",
    "        response = requests.post(token_url, data=body, headers=headers)\n",
    "        if response.status_code == 200:\n",
    "            self.token = response.json()['access_token']\n",
    "            print(\"Token retrieved successfully.\")\n",
    "        else:\n",
    "            raise Exception(f\"Failed to authenticate: {response.status_code}, {response.content}\")\n",
    "\n",
    "        return self.token\n",
    "    \n"
   ]
  },
  {
   "cell_type": "code",
   "execution_count": 6,
   "metadata": {},
   "outputs": [],
   "source": [
    "class Animal():\n",
    "    num_of_teeth = 32\n",
    "\n",
    "    def __init__(self, sound, food):\n",
    "        self.animals_sound = sound\n",
    "        self.animals_food = food\n",
    "        self.animals_type = 'Generic Animal'\n",
    "    \n",
    "    def make_sound(self):\n",
    "        print(f\"{self.animals_type} makes a sound : {self.animals_sound} \")\n",
    "\n",
    "    def eat_fav_food(self):\n",
    "        print(f\"{self.animals_type} eats its favorite food : {self.animals_food}\")\n",
    "\n",
    "    def get_num_of_teeth(self):\n",
    "        return self.num_of_teeth\n",
    "\n"
   ]
  },
  {
   "cell_type": "code",
   "execution_count": 7,
   "metadata": {},
   "outputs": [],
   "source": [
    "# cat = Animal('meow', 'mouse')\n",
    "cat = Animal('meow', 'mouse')\n",
    "dog = Animal('woof', 'bone')\n"
   ]
  },
  {
   "cell_type": "code",
   "execution_count": 21,
   "metadata": {},
   "outputs": [],
   "source": [
    "class Cow(Animal):\n",
    "    num_of_teeth = 22\n",
    "\n",
    "    def __init__(self, name, breed):\n",
    "        super().__init__('moo', 'grass')\n",
    "        self.name = name\n",
    "        self.breed = breed\n",
    "        self.animals_type = self.name"
   ]
  },
  {
   "cell_type": "code",
   "execution_count": 22,
   "metadata": {},
   "outputs": [],
   "source": [
    "cow = Cow('basanti','breed1')"
   ]
  },
  {
   "cell_type": "code",
   "execution_count": 23,
   "metadata": {},
   "outputs": [
    {
     "name": "stdout",
     "output_type": "stream",
     "text": [
      "basanti makes a sound : moo \n"
     ]
    }
   ],
   "source": [
    "cow.make_sound()"
   ]
  },
  {
   "cell_type": "code",
   "execution_count": 5,
   "metadata": {},
   "outputs": [],
   "source": [
    "class Car:\n",
    "    def __init__(self, colour, engine_size, model, weight, top_speed):\n",
    "        self.colour = colour\n",
    "        self.engine_size = engine_size\n",
    "        self.model = model\n",
    "        self.weight = weight\n",
    "        self.top_speed = top_speed\n",
    "        self.current_speed = 0\n",
    "\n",
    "    def start(self):\n",
    "        print(f\"{self.model} has started\")\n",
    "\n",
    "    def increase_speed(self, speed_increase):\n",
    "        current_speed = self.current_speed\n",
    "        self.current_speed += speed_increase\n",
    "        print(f\"Current speed was {current_speed}, and now has increased  to {self.current_speed} mph\")  \n",
    "\n",
    "    def stop(self):\n",
    "        print(f\"{self.model} has stopped\")\n",
    "\n",
    "    \n",
    "              \n",
    "    \n",
    "\n",
    "    "
   ]
  },
  {
   "cell_type": "code",
   "execution_count": 6,
   "metadata": {},
   "outputs": [],
   "source": [
    "my_car = Car('red', 4500, 'swift', 1000, 180)"
   ]
  },
  {
   "cell_type": "code",
   "execution_count": 10,
   "metadata": {},
   "outputs": [
    {
     "name": "stdout",
     "output_type": "stream",
     "text": [
      "Current speed was 20, and now has increased  to 40 mph\n"
     ]
    }
   ],
   "source": [
    "my_car.increase_speed(20)\n"
   ]
  },
  {
   "cell_type": "code",
   "execution_count": 12,
   "metadata": {},
   "outputs": [
    {
     "data": {
      "text/plain": [
       "40"
      ]
     },
     "execution_count": 12,
     "metadata": {},
     "output_type": "execute_result"
    }
   ],
   "source": [
    "my_car.current_speed"
   ]
  },
  {
   "cell_type": "code",
   "execution_count": 19,
   "metadata": {},
   "outputs": [],
   "source": [
    "class BlobDownloader:\n",
    "\n",
    "    cloud = 'Azure'\n",
    "\n",
    "    def __init__(self, storage_account, container, filename, filepath):\n",
    "        self.storage_url = storage_account\n",
    "\n",
    "    def download_blob(self):\n",
    "        stoargeaccountname = self.stoarge\n",
    "\n",
    "    def persist_blob_to_disk(self):\n",
    "        ...\n",
    "\n",
    "    def unzip_blob(self):\n",
    "        ...\n",
    "\n",
    "    def delete_blob(self):\n",
    "        ...\n",
    "\n",
    "  "
   ]
  },
  {
   "cell_type": "code",
   "execution_count": 22,
   "metadata": {},
   "outputs": [],
   "source": [
    "blob_downloader_s1 = BlobDownloader(','a','a','a')"
   ]
  },
  {
   "cell_type": "code",
   "execution_count": 23,
   "metadata": {},
   "outputs": [
    {
     "ename": "AttributeError",
     "evalue": "'BlobDownloader' object has no attribute 'sto'",
     "output_type": "error",
     "traceback": [
      "\u001b[1;31m---------------------------------------------------------------------------\u001b[0m",
      "\u001b[1;31mAttributeError\u001b[0m                            Traceback (most recent call last)",
      "Cell \u001b[1;32mIn[23], line 1\u001b[0m\n\u001b[1;32m----> 1\u001b[0m \u001b[43mblob_downloader\u001b[49m\u001b[38;5;241;43m.\u001b[39;49m\u001b[43msto\u001b[49m\n",
      "\u001b[1;31mAttributeError\u001b[0m: 'BlobDownloader' object has no attribute 'sto'"
     ]
    }
   ],
   "source": [
    "blob_downloader_s2 = BlobDownloader(','a','a','a')"
   ]
  },
  {
   "cell_type": "code",
   "execution_count": 24,
   "metadata": {},
   "outputs": [],
   "source": [
    "dd = {\"name\":\"ar\", \"age\":23}"
   ]
  },
  {
   "cell_type": "code",
   "execution_count": null,
   "metadata": {},
   "outputs": [],
   "source": [
    "def get_name(dict):\n",
    "    return dict['name']"
   ]
  }
 ],
 "metadata": {
  "kernelspec": {
   "display_name": ".venv",
   "language": "python",
   "name": "python3"
  },
  "language_info": {
   "codemirror_mode": {
    "name": "ipython",
    "version": 3
   },
   "file_extension": ".py",
   "mimetype": "text/x-python",
   "name": "python",
   "nbconvert_exporter": "python",
   "pygments_lexer": "ipython3",
   "version": "3.11.9"
  }
 },
 "nbformat": 4,
 "nbformat_minor": 2
}
