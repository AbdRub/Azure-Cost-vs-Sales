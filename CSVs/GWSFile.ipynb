{
 "cells": [
  {
   "cell_type": "code",
   "execution_count": 2,
   "metadata": {},
   "outputs": [],
   "source": [
    "import duckdb"
   ]
  },
  {
   "cell_type": "code",
   "execution_count": 3,
   "metadata": {},
   "outputs": [],
   "source": [
    "data = duckdb.read_csv('C:\\\\Users\\\\MohammedSafiAhmed\\\\Downloads\\\\filelist.csv')"
   ]
  },
  {
   "cell_type": "code",
   "execution_count": 4,
   "metadata": {},
   "outputs": [
    {
     "name": "stdout",
     "output_type": "stream",
     "text": [
      "┌──────────┐\n",
      "│ count(1) │\n",
      "│  int64   │\n",
      "├──────────┤\n",
      "│  2761808 │\n",
      "└──────────┘\n",
      "\n"
     ]
    }
   ],
   "source": [
    "duckdb.query('select count(1) from data ').show(max_width=10000)"
   ]
  },
  {
   "cell_type": "code",
   "execution_count": 7,
   "metadata": {},
   "outputs": [
    {
     "name": "stdout",
     "output_type": "stream",
     "text": [
      "┌──────────┐\n",
      "│ count(1) │\n",
      "│  int64   │\n",
      "├──────────┤\n",
      "│   574033 │\n",
      "└──────────┘\n",
      "\n"
     ]
    }
   ],
   "source": [
    "duckdb.query('select count(1) from data where fileextension is null ').show(max_width=10000)"
   ]
  },
  {
   "cell_type": "code",
   "execution_count": 9,
   "metadata": {},
   "outputs": [
    {
     "name": "stdout",
     "output_type": "stream",
     "text": [
      "┌──────────┐\n",
      "│ count(1) │\n",
      "│  int64   │\n",
      "├──────────┤\n",
      "│   457027 │\n",
      "└──────────┘\n",
      "\n"
     ]
    }
   ],
   "source": [
    "duckdb.query('select count(1) from data where size is null').show(max_width=10000)"
   ]
  },
  {
   "cell_type": "code",
   "execution_count": null,
   "metadata": {},
   "outputs": [],
   "source": []
  }
 ],
 "metadata": {
  "kernelspec": {
   "display_name": "venv",
   "language": "python",
   "name": "python3"
  },
  "language_info": {
   "codemirror_mode": {
    "name": "ipython",
    "version": 3
   },
   "file_extension": ".py",
   "mimetype": "text/x-python",
   "name": "python",
   "nbconvert_exporter": "python",
   "pygments_lexer": "ipython3",
   "version": "3.10.9"
  },
  "orig_nbformat": 4
 },
 "nbformat": 4,
 "nbformat_minor": 2
}
